{
  "nbformat": 4,
  "nbformat_minor": 0,
  "metadata": {
    "colab": {
      "name": "hivesql-mysql.ipynb",
      "provenance": [],
      "private_outputs": true,
      "collapsed_sections": [],
      "authorship_tag": "ABX9TyMaGqFXUWSi1URns80Zfzb0",
      "include_colab_link": true
    },
    "kernelspec": {
      "name": "python3",
      "display_name": "Python 3"
    }
  },
  "cells": [
    {
      "cell_type": "markdown",
      "metadata": {
        "id": "view-in-github",
        "colab_type": "text"
      },
      "source": [
        "<a href=\"https://colab.research.google.com/github/liruijia/learn/blob/master/hivesql_mysql.ipynb\" target=\"_parent\"><img src=\"https://colab.research.google.com/assets/colab-badge.svg\" alt=\"Open In Colab\"/></a>"
      ]
    },
    {
      "cell_type": "markdown",
      "metadata": {
        "id": "4vy0Z8J-PxEw",
        "colab_type": "text"
      },
      "source": [
        "# hivesql和MySQL之间的区别\n",
        "\n",
        "---\n",
        "\n",
        "\n",
        "  为了便于在HDFS中进行数据分析，因此有了Hive通过编译SQL来进行数据处理。其Hive-sql和sql语言大致来说是一致的，但是还存在一些区别\n",
        "\n",
        "区别：\n",
        "\n",
        "  * hivesql可以进行分区存放 partition\n",
        "\n",
        "  * hivesql对于分号无法编译，比如语句select concat(key,concat(';',key)) from A,在运行该语句的时候，可能会出现错误。一般是要适用ASicc编译之后的‘\\073’表示分号\n",
        "\n",
        "  * 在hive中插入数据的时除了支持insert into 使用insert overwrite table A [partitioned by ] ; 其insert into是追加插入，insert overwrite 则是覆盖插入\n",
        "\n",
        "  * hive不支持等值连接，即不支持select * from table1,table2 这样的表示而是要使用join 连接\n",
        "\n",
        "  * hive中可以使用mapreduce来实现比较复杂的处理过程。\n",
        "\n",
        "  * hive和HDFS相连接，其更适用于大规模数据的处理，且无论从数据量的角度还是效率来看，hivesql都比SQL好\n",
        "\n",
        "  * hive支持转换之后的数据直接写入不同的表，还可以写入分区、hdfs、本地目录\n",
        "\n",
        "  * 除了上面的区别之外，还有一些函数之间的区别：\n",
        "\n",
        "\n",
        "    '''\n",
        "    MySQL                              hive\n",
        "\n",
        "    group_concat (可以直接实现组内排序               concat_ws（还要对原表进行处理）\n",
        "    substring                            split函数\n",
        "\n",
        "    时间函数系列\n",
        "    '''\n",
        "\n",
        "  * hive和MySQL数据类型之间存在区别：\n",
        "\n",
        "    hive中的基本数据类型有：\n",
        "\n",
        "      * int \n",
        "      * tinyint\n",
        "      * smallint\n",
        "      * bigint\n",
        "      * string\n",
        "      * varchar\n",
        "      * char\n",
        "      * float\n",
        "      * double\n",
        "      * boolean\n",
        "      * decimal\n",
        "      * date  -----    \"YYYY-MM-DD\"\n",
        "      * timestamp\n",
        "      * interval ----   \"YYYY-MM-DD HH:MM:SS:ffffffff\"\n",
        "\n",
        "    hive中复杂数据类型：\n",
        "\n",
        "      * map ------一组有序字段，字段类型必须相同\n",
        "      * array ————————无序的键值对\n",
        "      * struct -------------------一组字段，字段类型可以不同\n",
        "      * UNION\n",
        "\n",
        "    MySQL中的数据类型则无复杂的数据类型，其他大致一样\n",
        "\n",
        "\n",
        "\n",
        "\n",
        "\n",
        "[hivesql与sql的区别](https://blog.csdn.net/u010385646/article/details/53167707)\n",
        "\n",
        "[hql和MySQL某些函数之间的区别](https://blog.csdn.net/quiet_girl/article/details/85246416?depth_1-utm_source=distribute.pc_relevant.none-task-blog-BlogCommendFromBaidu-3&utm_source=distribute.pc_relevant.none-task-blog-BlogCommendFromBaidu-3)\n",
        "\n",
        "\n",
        "\n",
        "\n",
        "\n"
      ]
    }
  ]
}